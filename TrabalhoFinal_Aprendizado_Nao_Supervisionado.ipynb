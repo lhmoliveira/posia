{
  "nbformat": 4,
  "nbformat_minor": 0,
  "metadata": {
    "kernelspec": {
      "display_name": "Python 3",
      "language": "python",
      "name": "python3"
    },
    "language_info": {
      "codemirror_mode": {
        "name": "ipython",
        "version": 3
      },
      "file_extension": ".py",
      "mimetype": "text/x-python",
      "name": "python",
      "nbconvert_exporter": "python",
      "pygments_lexer": "ipython3",
      "version": "3.6.8"
    },
    "colab": {
      "name": "TrabalhoFinal-Aprendizado-Nao-Supervisionado.ipynb",
      "provenance": [],
      "collapsed_sections": []
    }
  },
  "cells": [
    {
      "cell_type": "markdown",
      "metadata": {
        "id": "s_IY9rY-0Djh",
        "colab_type": "text"
      },
      "source": [
        "# Análise de Dados e Inferência Estatística com Python\n",
        "\n",
        "### Trabalho final - Aprendizado Não Supervisionado\n",
        "\n",
        "**Professor:** Paulo Cotta\n",
        "\n",
        "**Entrega:** 11/11/2019\n",
        "\n",
        "O conjunto de dados para este projeto se origina do [repositório de Machine Learning da UCI](https://archive.ics.uci.edu/ml/datasets/Housing). Os dados de imóveis de Boston foram coletados em 1978 e cada uma das 489 entradas representa dados agregados sobre 14 atributos para imóveis de vários subúrbios de Boston.\n",
        "\n",
        "Neste projeto, você irá avaliar um conjunto de dados coletado dos imóveis dos subúrbios de Boston, Massachusetts. O principal objetivo deste trabalho é realizar a análise e começar a trabalhar com funções e métodos que serão utilizados no dia a dia de vocês como Engenheiros de Dados e/ou Engenheiros de Machine Learning.\n",
        "\n",
        "\n",
        "**Vale lembrar que o trabalho terá situações que serão feitas em sala de aula (então nem todo o conteúdo foi abordado ainda), para qualquer dúvida pode procurar o professor.**"
      ]
    },
    {
      "cell_type": "markdown",
      "metadata": {
        "id": "Ck1tcsJ67ZKZ",
        "colab_type": "text"
      },
      "source": [
        "###Aluno: Leandro Henrique Mendonça de Oliveira\n",
        "\n",
        "###Matrícula: 1931143011"
      ]
    },
    {
      "cell_type": "code",
      "metadata": {
        "id": "0mnHKY010Dj0",
        "colab_type": "code",
        "outputId": "5078c4ce-6e66-410d-f940-89ba386fe358",
        "colab": {
          "base_uri": "https://localhost:8080/",
          "height": 34
        }
      },
      "source": [
        "# Verificação se o sklearn está instalado na sua máquina\n",
        "import sklearn\n",
        "print(\"A versão do scikit-learn é \", sklearn.__version__)"
      ],
      "execution_count": 0,
      "outputs": [
        {
          "output_type": "stream",
          "text": [
            "A versão do scikit-learn é  0.21.3\n"
          ],
          "name": "stdout"
        }
      ]
    },
    {
      "cell_type": "markdown",
      "metadata": {
        "id": "FD637LzH0Dkk",
        "colab_type": "text"
      },
      "source": [
        "O sklearn é um framework que já possui alguns algoritmos de Machine Learning (ML) prontos. Eu recomento que utilizem sempre a ultima versão do framework.\n",
        "\n",
        "Documentação: [link](https://scikit-learn.org/stable/)"
      ]
    },
    {
      "cell_type": "markdown",
      "metadata": {
        "id": "MUV7t11B0Dku",
        "colab_type": "text"
      },
      "source": [
        "Mediante ao cenário seguinte:\n",
        "\n",
        "Os dados de imóveis de Boston foram coletados em 1978 e cada uma das 489 entradas representa dados agregados sobre 14 atributos para imóveis de vários subúrbios de Boston. Para o propósito deste projeto, os passos de pré-processamento a seguir foram feitos para esse conjunto de dados:\n",
        "- 16 observações de dados possuem um valor `'MEDV'` de 50.0. Essas observações provavelmente contêm **valores ausentes ou censurados** e foram removidas.\n",
        "- 1 observação de dados tem um valor `'RM'` de 8.78. Essa observação pode ser considerada **valor atípico (outlier)** e foi removida.\n",
        "- Os atributos `'RM'`, `'LSTAT'`, `'PTRATIO'`, and `'MEDV'` são essenciais. O resto dos **atributos irrelevantes** foram excluídos.\n",
        "- O atributo `'MEDV'` foi **escalonado multiplicativamente** para considerar 35 anos de inflação de mercado.\n",
        "\n",
        "Fica mais tranquilo efetuar o trabalho conhecendo um pouco sobre o conjunto de dados (dataset)."
      ]
    },
    {
      "cell_type": "code",
      "metadata": {
        "id": "HxdEya670Dk3",
        "colab_type": "code",
        "outputId": "a774d14e-2a16-439d-d7af-4b248895991e",
        "colab": {
          "base_uri": "https://localhost:8080/",
          "height": 208
        }
      },
      "source": [
        "# Execute a célula de código abaixo para carregar o conjunto dos dados dos imóveis de Boston\n",
        "# Importar as bibliotecas necessárias para este projeto\n",
        "import numpy as np\n",
        "import pandas as pd\n",
        "from sklearn.model_selection import ShuffleSplit\n",
        "\n",
        "# Formatação mais bonita para os notebooks\n",
        "%matplotlib inline\n",
        "\n",
        "from google.colab import drive\n",
        "drive.mount('/content/drive/')\n",
        "\n",
        "# Executar o conjunto de dados de imóveis de Boston\n",
        "#data = pd.read_csv('housing.csv')\n",
        "data = pd.read_csv(\"/content/drive/My Drive/Colab Notebooks/aprendizado-nao-supervisionado/trabalho3/housing.csv\")\n",
        "prices = data['MEDV']\n",
        "# Dropando a coluna com maior indice de valores ausentes\n",
        "features = data.drop('MEDV', axis = 1)\n",
        "\n",
        "data.info()\n",
        "\n",
        "# Êxito\n",
        "print(\"O conjunto de dados de imóveis de Boston tem {} pontos com {} variáveis em cada.\".format(*data.shape))"
      ],
      "execution_count": 0,
      "outputs": [
        {
          "output_type": "stream",
          "text": [
            "Drive already mounted at /content/drive/; to attempt to forcibly remount, call drive.mount(\"/content/drive/\", force_remount=True).\n",
            "<class 'pandas.core.frame.DataFrame'>\n",
            "RangeIndex: 489 entries, 0 to 488\n",
            "Data columns (total 4 columns):\n",
            "RM         489 non-null float64\n",
            "LSTAT      489 non-null float64\n",
            "PTRATIO    489 non-null float64\n",
            "MEDV       489 non-null float64\n",
            "dtypes: float64(4)\n",
            "memory usage: 15.4 KB\n",
            "O conjunto de dados de imóveis de Boston tem 489 pontos com 4 variáveis em cada.\n"
          ],
          "name": "stdout"
        }
      ]
    },
    {
      "cell_type": "code",
      "metadata": {
        "id": "2kDdMeah0DlX",
        "colab_type": "code",
        "outputId": "c7d8c5af-8e31-4ff2-812a-a4dda81c1661",
        "colab": {
          "base_uri": "https://localhost:8080/",
          "height": 206
        }
      },
      "source": [
        "data.head()"
      ],
      "execution_count": 0,
      "outputs": [
        {
          "output_type": "execute_result",
          "data": {
            "text/html": [
              "<div>\n",
              "<style scoped>\n",
              "    .dataframe tbody tr th:only-of-type {\n",
              "        vertical-align: middle;\n",
              "    }\n",
              "\n",
              "    .dataframe tbody tr th {\n",
              "        vertical-align: top;\n",
              "    }\n",
              "\n",
              "    .dataframe thead th {\n",
              "        text-align: right;\n",
              "    }\n",
              "</style>\n",
              "<table border=\"1\" class=\"dataframe\">\n",
              "  <thead>\n",
              "    <tr style=\"text-align: right;\">\n",
              "      <th></th>\n",
              "      <th>RM</th>\n",
              "      <th>LSTAT</th>\n",
              "      <th>PTRATIO</th>\n",
              "      <th>MEDV</th>\n",
              "    </tr>\n",
              "  </thead>\n",
              "  <tbody>\n",
              "    <tr>\n",
              "      <th>0</th>\n",
              "      <td>6.575</td>\n",
              "      <td>4.98</td>\n",
              "      <td>15.3</td>\n",
              "      <td>504000.0</td>\n",
              "    </tr>\n",
              "    <tr>\n",
              "      <th>1</th>\n",
              "      <td>6.421</td>\n",
              "      <td>9.14</td>\n",
              "      <td>17.8</td>\n",
              "      <td>453600.0</td>\n",
              "    </tr>\n",
              "    <tr>\n",
              "      <th>2</th>\n",
              "      <td>7.185</td>\n",
              "      <td>4.03</td>\n",
              "      <td>17.8</td>\n",
              "      <td>728700.0</td>\n",
              "    </tr>\n",
              "    <tr>\n",
              "      <th>3</th>\n",
              "      <td>6.998</td>\n",
              "      <td>2.94</td>\n",
              "      <td>18.7</td>\n",
              "      <td>701400.0</td>\n",
              "    </tr>\n",
              "    <tr>\n",
              "      <th>4</th>\n",
              "      <td>7.147</td>\n",
              "      <td>5.33</td>\n",
              "      <td>18.7</td>\n",
              "      <td>760200.0</td>\n",
              "    </tr>\n",
              "  </tbody>\n",
              "</table>\n",
              "</div>"
            ],
            "text/plain": [
              "      RM  LSTAT  PTRATIO      MEDV\n",
              "0  6.575   4.98     15.3  504000.0\n",
              "1  6.421   9.14     17.8  453600.0\n",
              "2  7.185   4.03     17.8  728700.0\n",
              "3  6.998   2.94     18.7  701400.0\n",
              "4  7.147   5.33     18.7  760200.0"
            ]
          },
          "metadata": {
            "tags": []
          },
          "execution_count": 3
        }
      ]
    },
    {
      "cell_type": "code",
      "metadata": {
        "id": "72RnifV0nJOK",
        "colab_type": "code",
        "outputId": "be05800b-2f44-4322-bf95-1eb6bb562e96",
        "colab": {
          "base_uri": "https://localhost:8080/",
          "height": 34
        }
      },
      "source": [
        "data.shape"
      ],
      "execution_count": 0,
      "outputs": [
        {
          "output_type": "execute_result",
          "data": {
            "text/plain": [
              "(489, 4)"
            ]
          },
          "metadata": {
            "tags": []
          },
          "execution_count": 4
        }
      ]
    },
    {
      "cell_type": "markdown",
      "metadata": {
        "id": "Ck7ni7q80Dl0",
        "colab_type": "text"
      },
      "source": [
        "### Explorando os dados\n",
        "\n",
        "Você aluno deve efetuar uma investigação sobre os dados de imóveis de Boston e fornecerá suas observações. Familiarizar-se com os dados durante o processo de exploração é uma prática fundamental que ajuda você a entender melhor e justificar seus resultados.\n",
        "\n",
        "Dado que o objetivo principal deste projeto é construir um modelo de trabalho que tem a capacidade de estimar valores dos imóveis, vamos precisar separar os conjuntos de dados em **atributos** e **variável alvo**. O **atributos**, `'RM'`, `'LSTAT'` e `'PTRATIO'`, nos dão informações quantitativas sobre cada ponto de dado. A **variável alvo**, `'MEDV'`, será a variável que procuramos estimar. Eles são armazenados em `features` e ` prices`, respectivamente."
      ]
    },
    {
      "cell_type": "code",
      "metadata": {
        "id": "yQmSenPK0Dl9",
        "colab_type": "code",
        "outputId": "b857d5df-f114-4d50-a5a6-c282ea256fc0",
        "colab": {
          "base_uri": "https://localhost:8080/",
          "height": 139
        }
      },
      "source": [
        "# TODO: Preço mínimo dos dados\n",
        "minimum_price = np.amin(prices)\n",
        "\n",
        "# TODO: Preço máximo dos dados\n",
        "maximum_price = np.amax(prices)\n",
        "\n",
        "# TODO: Preço médio dos dados\n",
        "mean_price = np.mean(prices)\n",
        "\n",
        "# TODO: Preço mediano dos dados\n",
        "median_price = np.median(prices)\n",
        "\n",
        "# TODO: Desvio padrão do preço dos dados\n",
        "std_price = np.std(prices)\n",
        "\n",
        "# Mostrar as estatísticas calculadas\n",
        "print(\"Estatísticas para os dados dos imóveis de Boston:\\n\")\n",
        "print(\"Preço mínimo: ${:,.2f}\".format(minimum_price))\n",
        "print(\"Preço máximo: ${:,.2f}\".format(maximum_price))\n",
        "print(\"Preço médio: ${:,.2f}\".format(mean_price))\n",
        "print(\"Preço mediano: ${:,.2f}\".format(median_price))\n",
        "print(\"Desvio padrão dos preços: ${:,.2f}\".format(std_price))"
      ],
      "execution_count": 0,
      "outputs": [
        {
          "output_type": "stream",
          "text": [
            "Estatísticas para os dados dos imóveis de Boston:\n",
            "\n",
            "Preço mínimo: $105,000.00\n",
            "Preço máximo: $1,024,800.00\n",
            "Preço médio: $454,342.94\n",
            "Preço mediano: $438,900.00\n",
            "Desvio padrão dos preços: $165,171.13\n"
          ],
          "name": "stdout"
        }
      ]
    },
    {
      "cell_type": "code",
      "metadata": {
        "id": "N-oSIVXE0Dmb",
        "colab_type": "code",
        "outputId": "aed2a69f-f67c-49a2-a097-4dfcdef71ce6",
        "colab": {
          "base_uri": "https://localhost:8080/",
          "height": 300
        }
      },
      "source": [
        "# Trouxe os mesmo resultados apresentados e inclusive os Quartis\n",
        "data.describe()"
      ],
      "execution_count": 0,
      "outputs": [
        {
          "output_type": "execute_result",
          "data": {
            "text/html": [
              "<div>\n",
              "<style scoped>\n",
              "    .dataframe tbody tr th:only-of-type {\n",
              "        vertical-align: middle;\n",
              "    }\n",
              "\n",
              "    .dataframe tbody tr th {\n",
              "        vertical-align: top;\n",
              "    }\n",
              "\n",
              "    .dataframe thead th {\n",
              "        text-align: right;\n",
              "    }\n",
              "</style>\n",
              "<table border=\"1\" class=\"dataframe\">\n",
              "  <thead>\n",
              "    <tr style=\"text-align: right;\">\n",
              "      <th></th>\n",
              "      <th>RM</th>\n",
              "      <th>LSTAT</th>\n",
              "      <th>PTRATIO</th>\n",
              "      <th>MEDV</th>\n",
              "    </tr>\n",
              "  </thead>\n",
              "  <tbody>\n",
              "    <tr>\n",
              "      <th>count</th>\n",
              "      <td>489.000000</td>\n",
              "      <td>489.000000</td>\n",
              "      <td>489.000000</td>\n",
              "      <td>4.890000e+02</td>\n",
              "    </tr>\n",
              "    <tr>\n",
              "      <th>mean</th>\n",
              "      <td>6.240288</td>\n",
              "      <td>12.939632</td>\n",
              "      <td>18.516564</td>\n",
              "      <td>4.543429e+05</td>\n",
              "    </tr>\n",
              "    <tr>\n",
              "      <th>std</th>\n",
              "      <td>0.643650</td>\n",
              "      <td>7.081990</td>\n",
              "      <td>2.111268</td>\n",
              "      <td>1.653403e+05</td>\n",
              "    </tr>\n",
              "    <tr>\n",
              "      <th>min</th>\n",
              "      <td>3.561000</td>\n",
              "      <td>1.980000</td>\n",
              "      <td>12.600000</td>\n",
              "      <td>1.050000e+05</td>\n",
              "    </tr>\n",
              "    <tr>\n",
              "      <th>25%</th>\n",
              "      <td>5.880000</td>\n",
              "      <td>7.370000</td>\n",
              "      <td>17.400000</td>\n",
              "      <td>3.507000e+05</td>\n",
              "    </tr>\n",
              "    <tr>\n",
              "      <th>50%</th>\n",
              "      <td>6.185000</td>\n",
              "      <td>11.690000</td>\n",
              "      <td>19.100000</td>\n",
              "      <td>4.389000e+05</td>\n",
              "    </tr>\n",
              "    <tr>\n",
              "      <th>75%</th>\n",
              "      <td>6.575000</td>\n",
              "      <td>17.120000</td>\n",
              "      <td>20.200000</td>\n",
              "      <td>5.187000e+05</td>\n",
              "    </tr>\n",
              "    <tr>\n",
              "      <th>max</th>\n",
              "      <td>8.398000</td>\n",
              "      <td>37.970000</td>\n",
              "      <td>22.000000</td>\n",
              "      <td>1.024800e+06</td>\n",
              "    </tr>\n",
              "  </tbody>\n",
              "</table>\n",
              "</div>"
            ],
            "text/plain": [
              "               RM       LSTAT     PTRATIO          MEDV\n",
              "count  489.000000  489.000000  489.000000  4.890000e+02\n",
              "mean     6.240288   12.939632   18.516564  4.543429e+05\n",
              "std      0.643650    7.081990    2.111268  1.653403e+05\n",
              "min      3.561000    1.980000   12.600000  1.050000e+05\n",
              "25%      5.880000    7.370000   17.400000  3.507000e+05\n",
              "50%      6.185000   11.690000   19.100000  4.389000e+05\n",
              "75%      6.575000   17.120000   20.200000  5.187000e+05\n",
              "max      8.398000   37.970000   22.000000  1.024800e+06"
            ]
          },
          "metadata": {
            "tags": []
          },
          "execution_count": 6
        }
      ]
    },
    {
      "cell_type": "markdown",
      "metadata": {
        "id": "x69JWj6b0Dmx",
        "colab_type": "text"
      },
      "source": [
        "### Questão 1\n",
        "\n",
        "Após apresentação dos dados, em formato não supervisionado, desenvolva utilizando K-means e ou GMM um classificador e apresente em formato de Data Visualization os clusters."
      ]
    },
    {
      "cell_type": "markdown",
      "metadata": {
        "id": "RoF50IM2mC-U",
        "colab_type": "text"
      },
      "source": [
        "###EXERCICIO A PARTIR DAQUI"
      ]
    },
    {
      "cell_type": "code",
      "metadata": {
        "id": "MsjHp4ZdmBdC",
        "colab_type": "code",
        "outputId": "f1feadec-bc88-4410-a2f6-79ff73718a72",
        "colab": {
          "base_uri": "https://localhost:8080/",
          "height": 206
        }
      },
      "source": [
        "dados_df = data\n",
        "dados_df.head()"
      ],
      "execution_count": 0,
      "outputs": [
        {
          "output_type": "execute_result",
          "data": {
            "text/html": [
              "<div>\n",
              "<style scoped>\n",
              "    .dataframe tbody tr th:only-of-type {\n",
              "        vertical-align: middle;\n",
              "    }\n",
              "\n",
              "    .dataframe tbody tr th {\n",
              "        vertical-align: top;\n",
              "    }\n",
              "\n",
              "    .dataframe thead th {\n",
              "        text-align: right;\n",
              "    }\n",
              "</style>\n",
              "<table border=\"1\" class=\"dataframe\">\n",
              "  <thead>\n",
              "    <tr style=\"text-align: right;\">\n",
              "      <th></th>\n",
              "      <th>RM</th>\n",
              "      <th>LSTAT</th>\n",
              "      <th>PTRATIO</th>\n",
              "      <th>MEDV</th>\n",
              "    </tr>\n",
              "  </thead>\n",
              "  <tbody>\n",
              "    <tr>\n",
              "      <th>0</th>\n",
              "      <td>6.575</td>\n",
              "      <td>4.98</td>\n",
              "      <td>15.3</td>\n",
              "      <td>504000.0</td>\n",
              "    </tr>\n",
              "    <tr>\n",
              "      <th>1</th>\n",
              "      <td>6.421</td>\n",
              "      <td>9.14</td>\n",
              "      <td>17.8</td>\n",
              "      <td>453600.0</td>\n",
              "    </tr>\n",
              "    <tr>\n",
              "      <th>2</th>\n",
              "      <td>7.185</td>\n",
              "      <td>4.03</td>\n",
              "      <td>17.8</td>\n",
              "      <td>728700.0</td>\n",
              "    </tr>\n",
              "    <tr>\n",
              "      <th>3</th>\n",
              "      <td>6.998</td>\n",
              "      <td>2.94</td>\n",
              "      <td>18.7</td>\n",
              "      <td>701400.0</td>\n",
              "    </tr>\n",
              "    <tr>\n",
              "      <th>4</th>\n",
              "      <td>7.147</td>\n",
              "      <td>5.33</td>\n",
              "      <td>18.7</td>\n",
              "      <td>760200.0</td>\n",
              "    </tr>\n",
              "  </tbody>\n",
              "</table>\n",
              "</div>"
            ],
            "text/plain": [
              "      RM  LSTAT  PTRATIO      MEDV\n",
              "0  6.575   4.98     15.3  504000.0\n",
              "1  6.421   9.14     17.8  453600.0\n",
              "2  7.185   4.03     17.8  728700.0\n",
              "3  6.998   2.94     18.7  701400.0\n",
              "4  7.147   5.33     18.7  760200.0"
            ]
          },
          "metadata": {
            "tags": []
          },
          "execution_count": 7
        }
      ]
    },
    {
      "cell_type": "code",
      "metadata": {
        "id": "WNgTozkbUURa",
        "colab_type": "code",
        "outputId": "69167d2e-6902-4612-d1ee-af93ebbf60ee",
        "colab": {
          "base_uri": "https://localhost:8080/",
          "height": 34
        }
      },
      "source": [
        "dados_df.columns"
      ],
      "execution_count": 0,
      "outputs": [
        {
          "output_type": "execute_result",
          "data": {
            "text/plain": [
              "Index(['RM', 'LSTAT', 'PTRATIO', 'MEDV'], dtype='object')"
            ]
          },
          "metadata": {
            "tags": []
          },
          "execution_count": 8
        }
      ]
    },
    {
      "cell_type": "markdown",
      "metadata": {
        "id": "pkjf-lO_hhA0",
        "colab_type": "text"
      },
      "source": [
        "####Padronização de Dados de forma escalar"
      ]
    },
    {
      "cell_type": "code",
      "metadata": {
        "id": "SDoKIgq2ahyV",
        "colab_type": "code",
        "outputId": "cde220b7-325f-48d3-d75c-419dadd6a022",
        "colab": {
          "base_uri": "https://localhost:8080/",
          "height": 139
        }
      },
      "source": [
        "from sklearn.preprocessing import StandardScaler\n",
        "\n",
        "scaler = StandardScaler()\n",
        "dados_df_escalados = scaler.fit_transform(dados_df)\n",
        "dados_df_escalados"
      ],
      "execution_count": 0,
      "outputs": [
        {
          "output_type": "execute_result",
          "data": {
            "text/plain": [
              "array([[ 0.52055395, -1.1250769 , -1.5250831 ,  0.30064004],\n",
              "       [ 0.28104837, -0.53706982, -0.33974768, -0.00449803],\n",
              "       [ 1.46924486, -1.25935736, -0.33974768,  1.66104726],\n",
              "       ...,\n",
              "       [ 1.14420158, -1.03178731,  1.17748167,  0.28792595],\n",
              "       [ 0.86114953, -0.91305511,  1.17748167,  0.04635831],\n",
              "       [-0.32704695, -0.71516812,  1.17748167, -1.23776439]])"
            ]
          },
          "metadata": {
            "tags": []
          },
          "execution_count": 9
        }
      ]
    },
    {
      "cell_type": "code",
      "metadata": {
        "id": "0a6GhVOba1r5",
        "colab_type": "code",
        "colab": {}
      },
      "source": [
        "dados_df = dados_df_escalados"
      ],
      "execution_count": 0,
      "outputs": []
    },
    {
      "cell_type": "markdown",
      "metadata": {
        "id": "NtdDGy7ZhsYw",
        "colab_type": "text"
      },
      "source": [
        "####Criando a curva de cotovelo para descobrir o numero de clusteres"
      ]
    },
    {
      "cell_type": "code",
      "metadata": {
        "id": "gIw7HnPghy8W",
        "colab_type": "code",
        "outputId": "1fcd76ff-edc0-427a-cee1-394d8b24761b",
        "colab": {
          "base_uri": "https://localhost:8080/",
          "height": 282
        }
      },
      "source": [
        "from sklearn.cluster import KMeans\n",
        "from sklearn import datasets\n",
        "import matplotlib.pyplot as plt\n",
        "\n",
        "dados_cotovelo = []\n",
        "for qtde_grupos in range(1, 21):\n",
        "  modelo = KMeans(n_clusters=qtde_grupos)\n",
        "  modelo.fit(dados_df)\n",
        "  dados_cotovelo.append([qtde_grupos,modelo.inertia_])\n",
        "\n",
        "df_cotovelo = pd.DataFrame(dados_cotovelo, columns=['grupos', 'inertia'])\n",
        "df_cotovelo.inertia.plot(xticks=df_cotovelo.grupos)"
      ],
      "execution_count": 0,
      "outputs": [
        {
          "output_type": "execute_result",
          "data": {
            "text/plain": [
              "<matplotlib.axes._subplots.AxesSubplot at 0x7f57350c43c8>"
            ]
          },
          "metadata": {
            "tags": []
          },
          "execution_count": 11
        },
        {
          "output_type": "display_data",
          "data": {
            "image/png": "[encoded data removed]",
            "text/plain": [
              "<Figure size 432x288 with 1 Axes>"
            ]
          },
          "metadata": {
            "tags": []
          }
        }
      ]
    },
    {
      "cell_type": "markdown",
      "metadata": {
        "id": "tpkCZmpLkTsI",
        "colab_type": "text"
      },
      "source": [
        "####Treinando o KMeans para K=3, com 3 grupos"
      ]
    },
    {
      "cell_type": "code",
      "metadata": {
        "id": "XNSla0KAJmVn",
        "colab_type": "code",
        "outputId": "8d5e31a6-ef5d-439c-efa5-db0fd5fb3cd2",
        "colab": {
          "base_uri": "https://localhost:8080/",
          "height": 500
        }
      },
      "source": [
        "from sklearn.decomposition import PCA\n",
        "\n",
        "estimador_kmeans = KMeans(init='k-means++', n_clusters=3, random_state=0)\n",
        "estimador_kmeans.fit(dados_df)\n",
        "rotulos = estimador_kmeans.labels_\n",
        "centroides = estimador_kmeans.cluster_centers_\n",
        "\n",
        "dados_reduzidos_pca = PCA(n_components=2).fit_transform(dados_df)\n",
        "\n",
        "plt.figure(figsize=(14, 8))\n",
        "plt.scatter(dados_reduzidos_pca[:, 0], dados_reduzidos_pca[:, 1], c=rotulos)\n",
        "plt.legend(fontsize='medium')\n",
        "plt.show()"
      ],
      "execution_count": 0,
      "outputs": [
        {
          "output_type": "stream",
          "text": [
            "No handles with labels found to put in legend.\n"
          ],
          "name": "stderr"
        },
        {
          "output_type": "display_data",
          "data": {
            "image/png": "[encoded data removed]",
            "text/plain": [
              "<Figure size 1008x576 with 1 Axes>"
            ]
          },
          "metadata": {
            "tags": []
          }
        }
      ]
    }
  ]
}